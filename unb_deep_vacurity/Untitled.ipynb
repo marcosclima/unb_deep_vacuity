{
 "cells": [
  {
   "cell_type": "markdown",
   "metadata": {},
   "source": [
    "# Text Classification for Deep Vacurity\n",
    "\n",
    "## Summary\n",
    "## Load Data\n",
    "## Exploratory analysis\n",
    "## Data preparation\n",
    "    3.1. Renaming the columns\n",
    "    3.2. Dropping unwanted variable\n",
    "    3.3. Selecting input variable\n",
    "    3.4. Dropping missing values\n",
    "    3.5. Balancing target categories for model input\n",
    "## Text Filter\n",
    "    4.1. Removing ponctuation and stopwords\n",
    "    4.2. Lemmatizing and stemming\n",
    "    4.3. Entity recognition and filtering\n",
    "    4.4. Part-of-Speech analysis and filtering\n",
    "    4.5. Analysing filtering results\n",
    "## Text Parser\n",
    "    5.1 Dropping missing entities and POS\n",
    "    5.2 Counting and Vectorizing\n",
    "    5.3 Grisearching Parameters\n",
    "## Topic Modelling\n",
    "    6.1 Generating Topics\n",
    "    6.2 Grisearching Parameters\n",
    "    6.3 Storing topics scores as variables\n",
    "### Model Train and Cross-Validation\n",
    "    7.1 Comparing models\n",
    "    7.2 Evaluating winner model\n",
    "    7.3 Confusion Matrix"
   ]
  },
  {
   "cell_type": "code",
   "execution_count": 1,
   "metadata": {
    "ExecuteTime": {
     "end_time": "2020-09-20T19:45:55.656408Z",
     "start_time": "2020-09-20T19:45:53.987880Z"
    }
   },
   "outputs": [],
   "source": [
    "\"\"\"\n",
    "-*- coding: utf-8 -*- Created on Fri 21 2020\n",
    "@author: Thiago Pinho, Gabriel Vasconcelos\n",
    "@colaborators: Thiago Russo, Emmanuel Perotto\n",
    "\"\"\"\n",
    "\n",
    "from sklearn.model_selection import cross_val_score, train_test_split,\\\n",
    "    GridSearchCV\n",
    "from sklearn.feature_extraction.text import CountVectorizer, TfidfTransformer\n",
    "from sklearn.linear_model import SGDClassifier\n",
    "from sklearn.pipeline import Pipeline\n",
    "from sklearn.metrics import accuracy_score, classification_report,\\\n",
    "    plot_confusion_matrix\n",
    "from sklearn.naive_bayes import GaussianNB\n",
    "from sklearn.ensemble import RandomForestClassifier\n",
    "from sklearn.decomposition import LatentDirichletAllocation as LDA\n",
    "import pyLDAvis\n",
    "from pyLDAvis import sklearn as sklearn_lda\n",
    "import spacy\n",
    "from spacy.lang.pt.stop_words import STOP_WORDS\n",
    "from nltk.corpus import stopwords\n",
    "from tqdm.notebook import tqdm\n",
    "import pandas as pd\n",
    "import numpy as np\n",
    "import matplotlib.pyplot as plt\n",
    "import warnings\n",
    "\n",
    "warnings.simplefilter(\"ignore\", DeprecationWarning)"
   ]
  },
  {
   "cell_type": "markdown",
   "metadata": {},
   "source": [
    "For better code management, the constants used in this notebook will be listed bellow."
   ]
  },
  {
   "cell_type": "code",
   "execution_count": 3,
   "metadata": {
    "ExecuteTime": {
     "end_time": "2020-09-20T19:47:14.060766Z",
     "start_time": "2020-09-20T19:47:11.441837Z"
    }
   },
   "outputs": [],
   "source": [
    "RELATIVE_PATH_TO_FOLDER = \"./resources//data/\"\n",
    "DATA_FILENAME = \"dic_ind_0_0\"\n",
    "VECTOR_MODEL_NAME = \"pt_core_news_sm\"\n",
    "NLP_SPACY = spacy.load(VECTOR_MODEL_NAME)\n",
    "TARGET_VARIABLE = \"LABEL_TRAIN\"\n",
    "POSSIBLE_TEXT_VARIABLES = [\"CONTENT\", \"TITLE\"]"
   ]
  },
  {
   "cell_type": "markdown",
   "metadata": {},
   "source": [
    "## 1. Load data\n",
    "We'll have a look at the raw data and analyse it's structure."
   ]
  },
  {
   "cell_type": "code",
   "execution_count": 15,
   "metadata": {
    "ExecuteTime": {
     "end_time": "2020-09-20T20:09:10.270473Z",
     "start_time": "2020-09-20T20:09:10.217636Z"
    }
   },
   "outputs": [
    {
     "data": {
      "text/html": [
       "<div>\n",
       "<style scoped>\n",
       "    .dataframe tbody tr th:only-of-type {\n",
       "        vertical-align: middle;\n",
       "    }\n",
       "\n",
       "    .dataframe tbody tr th {\n",
       "        vertical-align: top;\n",
       "    }\n",
       "\n",
       "    .dataframe thead th {\n",
       "        text-align: right;\n",
       "    }\n",
       "</style>\n",
       "<table border=\"1\" class=\"dataframe\">\n",
       "  <thead>\n",
       "    <tr style=\"text-align: right;\">\n",
       "      <th></th>\n",
       "      <th>risco</th>\n",
       "      <th>txt</th>\n",
       "    </tr>\n",
       "  </thead>\n",
       "  <tbody>\n",
       "    <tr>\n",
       "      <th>8960894</th>\n",
       "      <td>0</td>\n",
       "      <td>pregao presencial 32013 municipio prado torna ...</td>\n",
       "    </tr>\n",
       "    <tr>\n",
       "      <th>2276920</th>\n",
       "      <td>0</td>\n",
       "      <td>gerencia executiva natal extrato contrato 9020...</td>\n",
       "    </tr>\n",
       "    <tr>\n",
       "      <th>3120817</th>\n",
       "      <td>0</td>\n",
       "      <td>resultados julgamentos 0004 2005 nome empresa ...</td>\n",
       "    </tr>\n",
       "    <tr>\n",
       "      <th>3496330</th>\n",
       "      <td>0</td>\n",
       "      <td>rubens falcao silva neto secretaria estado art...</td>\n",
       "    </tr>\n",
       "    <tr>\n",
       "      <th>8259101</th>\n",
       "      <td>0</td>\n",
       "      <td>pregao presencial 192012 prefeitura municipal ...</td>\n",
       "    </tr>\n",
       "  </tbody>\n",
       "</table>\n",
       "</div>"
      ],
      "text/plain": [
       "         risco                                                txt\n",
       "8960894      0  pregao presencial 32013 municipio prado torna ...\n",
       "2276920      0  gerencia executiva natal extrato contrato 9020...\n",
       "3120817      0  resultados julgamentos 0004 2005 nome empresa ...\n",
       "3496330      0  rubens falcao silva neto secretaria estado art...\n",
       "8259101      0  pregao presencial 192012 prefeitura municipal ..."
      ]
     },
     "execution_count": 15,
     "metadata": {},
     "output_type": "execute_result"
    }
   ],
   "source": [
    "relative_path_file = RELATIVE_PATH_TO_FOLDER + DATA_FILENAME + \".json\"\n",
    "vacurity_df = pd.read_json(relative_path_file, orient='index')\n",
    "\n",
    "vacurity_df.head()"
   ]
  },
  {
   "cell_type": "markdown",
   "metadata": {},
   "source": [
    "## 2. Exploratory analysis\n",
    "First we'll check datatypes and number of rows and columns"
   ]
  },
  {
   "cell_type": "code",
   "execution_count": 16,
   "metadata": {
    "ExecuteTime": {
     "end_time": "2020-09-20T20:09:11.303170Z",
     "start_time": "2020-09-20T20:09:11.285906Z"
    }
   },
   "outputs": [
    {
     "name": "stdout",
     "output_type": "stream",
     "text": [
      "Data info:\n",
      "<class 'pandas.core.frame.DataFrame'>\n",
      "Int64Index: 3814 entries, 8960894 to 12276651\n",
      "Data columns (total 2 columns):\n",
      " #   Column  Non-Null Count  Dtype \n",
      "---  ------  --------------  ----- \n",
      " 0   risco   3814 non-null   int64 \n",
      " 1   txt     3814 non-null   object\n",
      "dtypes: int64(1), object(1)\n",
      "memory usage: 89.4+ KB\n"
     ]
    }
   ],
   "source": [
    "print(\"Data info:\")\n",
    "vacurity_df.info()"
   ]
  },
  {
   "cell_type": "code",
   "execution_count": 17,
   "metadata": {
    "ExecuteTime": {
     "end_time": "2020-09-20T20:09:34.929163Z",
     "start_time": "2020-09-20T20:09:34.912375Z"
    }
   },
   "outputs": [
    {
     "ename": "NameError",
     "evalue": "name 'plot_categories_distribution' is not defined",
     "output_type": "error",
     "traceback": [
      "\u001b[0;31m---------------------------------------------------------------------------\u001b[0m",
      "\u001b[0;31mNameError\u001b[0m                                 Traceback (most recent call last)",
      "\u001b[0;32m<ipython-input-17-23a93b42df43>\u001b[0m in \u001b[0;36m<module>\u001b[0;34m()\u001b[0m\n\u001b[0;32m----> 1\u001b[0;31m raw_categories_df = plot_categories_distribution(ribon_news_df,\n\u001b[0m\u001b[1;32m      2\u001b[0m                                                  \u001b[0;34m'Label_Train'\u001b[0m\u001b[0;34m,\u001b[0m\u001b[0;34m\u001b[0m\u001b[0;34m\u001b[0m\u001b[0m\n\u001b[1;32m      3\u001b[0m                                                  \u001b[0;34m'id'\u001b[0m\u001b[0;34m,\u001b[0m\u001b[0;34m\u001b[0m\u001b[0;34m\u001b[0m\u001b[0m\n\u001b[1;32m      4\u001b[0m                                                  'Initial distribution of Categories in the Ribon News dataset')\n",
      "\u001b[0;31mNameError\u001b[0m: name 'plot_categories_distribution' is not defined"
     ]
    }
   ],
   "source": []
  },
  {
   "cell_type": "code",
   "execution_count": null,
   "metadata": {},
   "outputs": [],
   "source": []
  }
 ],
 "metadata": {
  "kernelspec": {
   "display_name": "Python 3",
   "language": "python",
   "name": "python3"
  },
  "language_info": {
   "codemirror_mode": {
    "name": "ipython",
    "version": 3
   },
   "file_extension": ".py",
   "mimetype": "text/x-python",
   "name": "python",
   "nbconvert_exporter": "python",
   "pygments_lexer": "ipython3",
   "version": "3.6.12"
  }
 },
 "nbformat": 4,
 "nbformat_minor": 4
}
